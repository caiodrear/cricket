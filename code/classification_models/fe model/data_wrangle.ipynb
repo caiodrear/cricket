{
 "cells": [
  {
   "cell_type": "code",
   "execution_count": 1,
   "id": "54a3b100",
   "metadata": {},
   "outputs": [],
   "source": [
    "#------------------standard packages-----------------\n",
    "import numpy as np\n",
    "import pandas as pd\n",
    "import datetime as dt\n",
    "import matplotlib.pyplot as plt\n",
    "from tqdm.notebook import tqdm\n",
    "import pickle\n",
    "import json\n",
    "from thefuzz import fuzz, process\n",
    "\n",
    "\n",
    "import sys, os #add code folder to sys.path\n",
    "sys.path.append(os.path.abspath('../../data_processing'))\n",
    "\n",
    "from cricsheet_read import cricsheet_read\n"
   ]
  },
  {
   "cell_type": "code",
   "execution_count": 3,
   "id": "1ba8ddce",
   "metadata": {},
   "outputs": [
    {
     "data": {
      "text/html": [
       "<div>\n",
       "<style scoped>\n",
       "    .dataframe tbody tr th:only-of-type {\n",
       "        vertical-align: middle;\n",
       "    }\n",
       "\n",
       "    .dataframe tbody tr th {\n",
       "        vertical-align: top;\n",
       "    }\n",
       "\n",
       "    .dataframe thead th {\n",
       "        text-align: right;\n",
       "    }\n",
       "</style>\n",
       "<table border=\"1\" class=\"dataframe\">\n",
       "  <thead>\n",
       "    <tr style=\"text-align: right;\">\n",
       "      <th></th>\n",
       "      <th>toss_winner</th>\n",
       "      <th>result</th>\n",
       "    </tr>\n",
       "  </thead>\n",
       "  <tbody>\n",
       "    <tr>\n",
       "      <th>947091</th>\n",
       "      <td>Warwickshire</td>\n",
       "      <td>Warwickshire</td>\n",
       "    </tr>\n",
       "    <tr>\n",
       "      <th>947093</th>\n",
       "      <td>Durham</td>\n",
       "      <td>Worcestershire</td>\n",
       "    </tr>\n",
       "    <tr>\n",
       "      <th>947095</th>\n",
       "      <td>Northamptonshire</td>\n",
       "      <td>Northamptonshire</td>\n",
       "    </tr>\n",
       "    <tr>\n",
       "      <th>947097</th>\n",
       "      <td>Somerset</td>\n",
       "      <td>Kent</td>\n",
       "    </tr>\n",
       "    <tr>\n",
       "      <th>947099</th>\n",
       "      <td>Essex</td>\n",
       "      <td>Surrey</td>\n",
       "    </tr>\n",
       "    <tr>\n",
       "      <th>...</th>\n",
       "      <td>...</td>\n",
       "      <td>...</td>\n",
       "    </tr>\n",
       "    <tr>\n",
       "      <th>1233955</th>\n",
       "      <td>West Indies</td>\n",
       "      <td>New Zealand</td>\n",
       "    </tr>\n",
       "    <tr>\n",
       "      <th>1277976</th>\n",
       "      <td>Bangladesh</td>\n",
       "      <td>Pakistan</td>\n",
       "    </tr>\n",
       "    <tr>\n",
       "      <th>1287773</th>\n",
       "      <td>West Indies</td>\n",
       "      <td>Pakistan</td>\n",
       "    </tr>\n",
       "    <tr>\n",
       "      <th>1287774</th>\n",
       "      <td>Pakistan</td>\n",
       "      <td>Pakistan</td>\n",
       "    </tr>\n",
       "    <tr>\n",
       "      <th>1287775</th>\n",
       "      <td>West Indies</td>\n",
       "      <td>Pakistan</td>\n",
       "    </tr>\n",
       "  </tbody>\n",
       "</table>\n",
       "<p>3262 rows × 2 columns</p>\n",
       "</div>"
      ],
      "text/plain": [
       "              toss_winner            result\n",
       "947091       Warwickshire      Warwickshire\n",
       "947093             Durham    Worcestershire\n",
       "947095   Northamptonshire  Northamptonshire\n",
       "947097           Somerset              Kent\n",
       "947099              Essex            Surrey\n",
       "...                   ...               ...\n",
       "1233955       West Indies       New Zealand\n",
       "1277976        Bangladesh          Pakistan\n",
       "1287773       West Indies          Pakistan\n",
       "1287774          Pakistan          Pakistan\n",
       "1287775       West Indies          Pakistan\n",
       "\n",
       "[3262 rows x 2 columns]"
      ]
     },
     "execution_count": 3,
     "metadata": {},
     "output_type": "execute_result"
    }
   ],
   "source": [
    "cricsheet_read()[1]"
   ]
  },
  {
   "cell_type": "code",
   "execution_count": null,
   "id": "dd67aa12",
   "metadata": {},
   "outputs": [],
   "source": [
    "import sys, os #add code folder to sys.path\n",
    "sys.path.append(os.path.abspath('../../data_processing'))\n",
    "\n",
    "from cric_read import cric_read"
   ]
  },
  {
   "cell_type": "code",
   "execution_count": null,
   "id": "7a3f461f",
   "metadata": {
    "scrolled": true
   },
   "outputs": [],
   "source": [
    "\n",
    "import sys, os #add code folder to sys.path\n",
    "sys.path.append(os.path.abspath(os.path.join('..', 'code')))\n",
    "\n",
    "from cric_read import cric_read\n",
    "from cric_wrangle import get_player_names, bat_matrix, bowl_matrix\n",
    "import cricket_metrics\n",
    "from cricket_metrics import *\n",
    "\n",
    "metrics=[getattr(cricket_metrics,m) for m in dir(cricket_metrics) if m not in ['__builtins__','__cached__','__doc__',\n",
    "                                                          '__file__','__loader__','__name__','pd',\n",
    "                                                          '__package__','__spec__','dt','np','wicket_types']]\n",
    "\n",
    "match_stack, results = cric_read(download = False)"
   ]
  },
  {
   "cell_type": "code",
   "execution_count": null,
   "id": "0e1db7f5",
   "metadata": {
    "scrolled": false
   },
   "outputs": [],
   "source": [
    "#------------------standard packages-----------------\n",
    "import numpy as np\n",
    "import pandas as pd\n",
    "import datetime as dt\n",
    "import matplotlib.pyplot as plt\n",
    "from tqdm.notebook import tqdm\n",
    "import pickle\n",
    "import json\n",
    "from thefuzz import fuzz, process\n",
    "\n",
    "#----------------caio's packages---------------------\n",
    "import sys, os #add code folder to sys.path\n",
    "sys.path.append(os.path.abspath('../../data_processing'))\n",
    "\n",
    "import cric_read"
   ]
  },
  {
   "cell_type": "code",
   "execution_count": null,
   "id": "46c9417e",
   "metadata": {},
   "outputs": [],
   "source": [
    "cric_read(['psl'])"
   ]
  },
  {
   "cell_type": "code",
   "execution_count": null,
   "id": "77714657",
   "metadata": {},
   "outputs": [],
   "source": [
    "import sys, os #add code folder to sys.path\n",
    "sys.path.append(os.path.abspath(os.path.join('..', 'code')))"
   ]
  },
  {
   "cell_type": "code",
   "execution_count": null,
   "id": "c91b5790",
   "metadata": {},
   "outputs": [],
   "source": [
    "from sklearn import preprocessing\n",
    "\n",
    "df = bat_c\n",
    "\n",
    "cols = df.columns\n",
    "\n",
    "min_max_scaler = preprocessing.MinMaxScaler()\n",
    "np_scaled = min_max_scaler.fit_transform(df)\n",
    "df_normalized = pd.DataFrame(np_scaled, columns = cols)\n",
    "df_normalized['bonus'] = (1 - df_normalized['runs_off_bat'])*df_normalized['days_since_match']\n",
    "df_normalized.describe()"
   ]
  },
  {
   "cell_type": "code",
   "execution_count": null,
   "id": "87c1610b",
   "metadata": {},
   "outputs": [],
   "source": [
    "team_h = get_player_names(match_stack, ['RG Sharma', 'Babar Azam', 'SPD Smith', 'KS Williamson', 'Q de Kock',\n",
    "                           'M Labuschagne', 'JO Holder', 'R Ashwin', 'TA Boult', 'SCJ Broad', 'PJ Cummins'])\n",
    "\n",
    "team_c = get_player_names(match_stack, ['DA Warner', 'V Kohli', 'BA Stokes', 'C de Grandhomme', 'MS Dhoni',\n",
    "                           'JE Root', 'JDS Neesham', 'MA Starc', 'Rashid Khan', 'JJ Bumrah', 'SL Malinga'])\n",
    "\n",
    "team_harsha = get_player_names(match_stack, \n",
    "                ['JC Buttler', 'Mohammad Rizwan', 'MR Marsh', 'MM Ali', 'G Maxwell',\n",
    "                 'AD Russell', 'SP Narine', 'Rashid Khan', 'Shaheen Shah Afridi', 'A Nortje', 'JJ Bumrah'])"
   ]
  },
  {
   "cell_type": "code",
   "execution_count": null,
   "id": "cded7e59",
   "metadata": {},
   "outputs": [],
   "source": [
    "team_harsha = get_player_names(match_stack, \n",
    "                ['JC Buttler', 'Mohammad Rizwan', 'MR Marsh', 'MM Ali', 'G Maxwell',\n",
    "                 'AD Russell', 'SP Narine', 'Rashid Khan', 'Shaheen Shah Afridi', 'A Nortje', 'JJ Bumrah'])"
   ]
  },
  {
   "cell_type": "code",
   "execution_count": null,
   "id": "4cb35eeb",
   "metadata": {},
   "outputs": [],
   "source": [
    "bat_riz = bat_matrix(match_stack, get_player_names(match_stack, ['Mohammad Rizwan']))\n",
    "bat_h = bat_matrix(match_stack, team_h)\n",
    "bat_c = bat_matrix(match_stack, team_c)\n",
    "bat_harsha = bat_matrix(match_stack, team_harsha)\n",
    "\n",
    "#bat_h = bat_h[bat_h['days_since_match']<366]\n",
    "#bat_c = bat_c[bat_c['days_since_match']<366]\n",
    "#bat_harsha = bat_harsha[bat_harsha['days_since_match']<366]"
   ]
  },
  {
   "cell_type": "code",
   "execution_count": null,
   "id": "251fc593",
   "metadata": {},
   "outputs": [],
   "source": [
    "from sklearn import preprocessing\n",
    "\n",
    "df = bat_riz\n",
    "\n",
    "cols = df.columns\n",
    "\n",
    "min_max_scaler = preprocessing.MinMaxScaler()\n",
    "np_scaled = min_max_scaler.fit_transform(df)\n",
    "df_normalized = pd.DataFrame(np_scaled, columns = cols)\n",
    "df_normalized['bonus'] = (1 - df_normalized['runs_off_bat'])*df_normalized['days_since_match']\n",
    "df_normalized.describe()"
   ]
  },
  {
   "cell_type": "code",
   "execution_count": null,
   "id": "f4902876",
   "metadata": {},
   "outputs": [],
   "source": [
    "bat_harsha"
   ]
  },
  {
   "cell_type": "code",
   "execution_count": null,
   "id": "3f8740c6",
   "metadata": {},
   "outputs": [],
   "source": [
    "print(bat_h['runs_off_bat'].mean()*100, bat_c['runs_off_bat'].mean()*100,\n",
    "     bat_harsha['runs_off_bat'].mean()*100)"
   ]
  },
  {
   "cell_type": "code",
   "execution_count": null,
   "id": "7de1216e",
   "metadata": {},
   "outputs": [],
   "source": [
    "print((bat_h['runs_off_bat']==0).sum()/bat_h['runs_off_bat'].sum()*100,\n",
    "      (bat_c['runs_off_bat']==0).sum()/bat_c['runs_off_bat'].sum()*100,\n",
    "      (bat_harsha['runs_off_bat']==0).sum()/bat_harsha['runs_off_bat'].sum()*100)"
   ]
  },
  {
   "cell_type": "code",
   "execution_count": null,
   "id": "9ea9b267",
   "metadata": {},
   "outputs": [],
   "source": [
    "print(bat_h['runs_off_bat'].sum()/bat_h['out'].sum(), bat_c['runs_off_bat'].sum()/bat_c['out'].sum(),\n",
    "     bat_harsha['runs_off_bat'].sum()/bat_harsha['out'].sum())"
   ]
  },
  {
   "cell_type": "code",
   "execution_count": null,
   "id": "c04f26e7",
   "metadata": {},
   "outputs": [],
   "source": [
    "bowl_h = bowl_matrix(match_stack, team_h)\n",
    "bowl_c = bowl_matrix(match_stack, team_c)\n",
    "bowl_harsha = bowl_matrix(match_stack, team_harsha)\n",
    "\n",
    "#bowl_h = bowl_h[bowl_h['days_since_match']<366]\n",
    "#bowl_c = bowl_c[bowl_c['days_since_match']<366]\n",
    "#bowl_harsha = bowl_harsha[bowl_harsha['days_since_match']<366]"
   ]
  },
  {
   "cell_type": "code",
   "execution_count": null,
   "id": "0c781021",
   "metadata": {},
   "outputs": [],
   "source": [
    "print(bowl_h['runs_conceded'].sum()/bowl_h['out'].sum(), bowl_c['runs_conceded'].sum()/bowl_c['out'].sum(),\n",
    "     bowl_harsha['runs_conceded'].sum()/bowl_harsha['out'].sum())"
   ]
  },
  {
   "cell_type": "code",
   "execution_count": null,
   "id": "ade7c9e8",
   "metadata": {},
   "outputs": [],
   "source": [
    "print(bowl_h['runs_conceded'].mean()*6, bowl_c['runs_conceded'].mean()*6,\n",
    "     bowl_harsha['runs_conceded'].mean()*6)"
   ]
  },
  {
   "cell_type": "code",
   "execution_count": null,
   "id": "8bb2a2a9",
   "metadata": {},
   "outputs": [],
   "source": [
    "plt.hist(bowl_matrix(match_stack, team_h)['runs_conceded'], density = True, bins = 7)\n",
    "plt.hist(bowl_matrix(match_stack, team_c)['runs_conceded'].clip(upper = 6),\n",
    "         density = True, bins = 7, alpha = 0.75)\n",
    "plt.show()"
   ]
  },
  {
   "cell_type": "code",
   "execution_count": null,
   "id": "562f3a15",
   "metadata": {},
   "outputs": [],
   "source": [
    "plt.hist(bat_matrix(match_stack, team_h)['runs_off_bat'], density = True, bins = 7)\n",
    "plt.hist(bat_matrix(match_stack, team_c)['runs_off_bat'].clip(upper = 6),\n",
    "         density = True, bins = 7, alpha = 0.75)\n",
    "plt.show()"
   ]
  },
  {
   "cell_type": "code",
   "execution_count": null,
   "id": "f4f6ed17",
   "metadata": {
    "scrolled": false
   },
   "outputs": [],
   "source": [
    "def bat_matrix(match_stack, players, date = dt.datetime.today()):\n",
    "    \n",
    "    player_stack = match_stack[(match_stack['striker'].isin(players)) &\n",
    "                              ((match_stack['wides'].isna() == True) | \n",
    "                               (match_stack['out'] == True))].copy()\n",
    "    \n",
    "    player_stack['days_since_match'] = (date - player_stack['start_date']).dt.days\n",
    "    \n",
    "    player_stack = player_stack[['days_since_match','ball_no','runs', 'wickets', 'runs_off_bat', 'out']]\n",
    "    \n",
    "    return player_stack.sort_values(['days_since_match', 'ball_no']).reset_index(drop = True)\n",
    "\n",
    "bat_matrix(match_stack, ['KA Pollard'])"
   ]
  },
  {
   "cell_type": "code",
   "execution_count": null,
   "id": "9b5c6708",
   "metadata": {},
   "outputs": [],
   "source": [
    "test =  bat_matrix(match_stack, ['AD Russell']).groupby('days_since_match', as_index = False).sum()"
   ]
  },
  {
   "cell_type": "code",
   "execution_count": null,
   "id": "764407c2",
   "metadata": {
    "scrolled": true
   },
   "outputs": [],
   "source": [
    "test.plot('days_since_match', 'runs_off_bat', kind = 'scatter')"
   ]
  },
  {
   "cell_type": "code",
   "execution_count": null,
   "id": "8f5025b5",
   "metadata": {},
   "outputs": [],
   "source": [
    "test.corr()"
   ]
  },
  {
   "cell_type": "code",
   "execution_count": null,
   "id": "c8b110fb",
   "metadata": {},
   "outputs": [],
   "source": [
    "def combi_matrix(set_matrices, chase_matrices):\n",
    "    \n",
    "    set_matrix = set_matrices[0].join(set_matrices[1], lsuffix='_bat', rsuffix='_bowl', how ='inner')\n",
    "    \n",
    "    chase_matrix = chase_matrices[0].join(chase_matrices[1], lsuffix='_bat', rsuffix='_bowl', how ='inner')\n",
    "    \n",
    "    combi_matrix = set_matrix.join(chase_matrix, lsuffix='_s',rsuffix='_c', how ='inner')\n",
    "    \n",
    "    return combi_matrix"
   ]
  },
  {
   "cell_type": "code",
   "execution_count": null,
   "id": "fd62175e",
   "metadata": {
    "scrolled": true
   },
   "outputs": [],
   "source": [
    "plt.hist(bat_matrix(match_stack, ['KA Pollard'])['runs_off_bat'], density = True, bins = 6)\n",
    "plt.hist(bat_matrix(match_stack, ['Babar Azam'])['runs_off_bat'], density = True, bins = 6, alpha = 0.75)\n",
    "plt.show()"
   ]
  },
  {
   "cell_type": "code",
   "execution_count": null,
   "id": "9b7c35a0",
   "metadata": {
    "scrolled": true
   },
   "outputs": [],
   "source": [
    "data_dict.values()"
   ]
  },
  {
   "cell_type": "code",
   "execution_count": null,
   "id": "1226b007",
   "metadata": {},
   "outputs": [],
   "source": [
    "data_dict['501232']['matrix'].shape"
   ]
  },
  {
   "cell_type": "code",
   "execution_count": null,
   "id": "44fb12c3",
   "metadata": {},
   "outputs": [],
   "source": [
    "plt.hist(data_dict['1273714']['matrices'][1][:,4], density = True)\n",
    "plt.hist(data_dict['1273714']['matrices'][3][:,4], density = True, alpha = 0.75)\n",
    "print(data_dict['1273714']['set_team_win'])\n",
    "plt.show()"
   ]
  },
  {
   "cell_type": "code",
   "execution_count": null,
   "id": "3434ef6b",
   "metadata": {
    "scrolled": true
   },
   "outputs": [],
   "source": [
    "plt.hist(bat_matrix(['SP Narine'], match_stack)['ball_no'], density = True, bins = 20)\n",
    "plt.hist(bat_matrix(['AD Russell'], match_stack)['ball_no'], density = True, bins = 20, alpha = 0.75)\n",
    "plt.show()"
   ]
  },
  {
   "cell_type": "code",
   "execution_count": null,
   "id": "f401ddb9",
   "metadata": {},
   "outputs": [],
   "source": [
    "def cric_wrangle(match_stack, results):\n",
    "    results = pd.DataFrame.to_dict(results, orient = 'index')\n",
    "    \n",
    "    min_size = 1000000\n",
    "    \n",
    "    cric_matrices = []\n",
    "    data_dict = {}\n",
    "    for match_id in tqdm(results.keys()):\n",
    "        \n",
    "        match = match_stack[match_stack['match_id'] == match_id].copy()\n",
    "        set_team = match.loc[match['innings'] == 1, 'batting_team'].iloc[0]\n",
    "        chase_team = match.loc[match['innings'] == 2, 'batting_team'].iloc[0]\n",
    "        start_date = match['start_date'].iloc[0]\n",
    "        \n",
    "        sub_stack = match_stack[match_stack['start_date'] < start_date].copy()\n",
    "        \n",
    "        players = {set_team:[], chase_team:[]}\n",
    "        for team in [set_team, chase_team]:\n",
    "            players[team] = list(np.unique(np.concatenate([\n",
    "                match.loc[match['batting_team'] == team, 'striker'],\n",
    "                match.loc[match['bowling_team'] == team, 'bowler']])))\n",
    "        \n",
    "        data_dict[match_id] = {}\n",
    "        data_dict[match_id]['set_team_win'] = results[match_id]['result'] == set_team\n",
    "        #data_dict[match_id]['set_team_toss'] = results[match_id]['toss_winner'] == set_team\n",
    "        \n",
    "        data_dict[match_id]['bat_matrix_s'] = bat_matrix(sub_stack, players[set_team], start_date)\n",
    "        data_dict[match_id]['bowl_matrix_s'] = bowl_matrix(sub_stack, players[set_team], start_date)\n",
    "        data_dict[match_id]['bat_matrix_c'] = bat_matrix(sub_stack, players[chase_team], start_date)\n",
    "        data_dict[match_id]['bowl_matrix_c'] = bowl_matrix(sub_stack, players[chase_team], start_date)\n",
    "        \n",
    "        \n",
    "        \n",
    "        set_matrices = [data_dict[match_id]['bat_matrix_s'], data_dict[match_id]['bowl_matrix_s']]\n",
    "        \n",
    "        chase_matrices = [data_dict[match_id]['bat_matrix_c'], data_dict[match_id]['bowl_matrix_c']]\n",
    "        \n",
    "        \n",
    "        cric_matrix = np.array(combi_matrix(set_matrices, chase_matrices), dtype = float)\n",
    "        cric_matrix /= np.linalg.norm(cric_matrix)\n",
    "        \n",
    "        cric_matrices.append(cric_matrix)\n",
    "    \n",
    "        if cric_matrix.shape[0]< min_size:\n",
    "            min_size = cric_matrix.shape[0]\n",
    "            print(min_size)\n",
    "\n",
    "    with open('../data/data_dict.p', 'wb') as fp:\n",
    "        pickle.dump(data_dict, fp, protocol=pickle.HIGHEST_PROTOCOL)\n",
    "        \n",
    "    with open('../data/cric_matrices.p', 'wb') as fp:\n",
    "        pickle.dump(cric_matrices, fp, protocol=pickle.HIGHEST_PROTOCOL)\n",
    "        \n",
    "    return data_dict, cric_matrices\n",
    "\n",
    "data_dict, cric_matrices = cric_wrangle(match_stack, results)"
   ]
  },
  {
   "cell_type": "code",
   "execution_count": null,
   "id": "2d39a61e",
   "metadata": {},
   "outputs": [],
   "source": []
  },
  {
   "cell_type": "code",
   "execution_count": null,
   "id": "8365bfc8",
   "metadata": {
    "scrolled": false
   },
   "outputs": [],
   "source": [
    "#--------------------cricket data wrangling-------------------\n",
    "def cric_wrangle(match_stack,results,hist_data_length,form=30,filename='cricket_data'):\n",
    "    \n",
    "    def match_row(match_id):\n",
    "        row_dict={}\n",
    "        \n",
    "        match=match_stack[match_stack['match_id']==match_id]\n",
    "#---------------------match_info--------------------   \n",
    "        row_dict['match_id']=match_id\n",
    "        row_dict['date']=match['start_date'].iloc[0]\n",
    "        row_dict['set_team']=match['batting_team'].iloc[0]\n",
    "        row_dict['chase_team']=match['bowling_team'].iloc[0]\n",
    "        row_dict['set_team_win']=results.loc[results['match_id']==match_id,\n",
    "                                    'result'].iloc[0]==row_dict['set_team']\n",
    "        row_dict['set_team_toss']=results.loc[results['match_id']==match_id,\n",
    "                                    'toss_winner'].iloc[0]==row_dict['set_team']\n",
    "        row_dict['1_in_wickets']=match[match['innings']==1]['wicket_type'].count()\n",
    "        row_dict['1w_score']=sum(match['wicket_type'].notna()*(match['innings']==1)*match['n_balls'])\n",
    "#------------filter for players in teams------------ \n",
    "        batters=match.loc[match['batting_team']==match['batting_team'].iloc[0],'striker']\n",
    "        bowlers=match.loc[match['bowling_team']==match['batting_team'].iloc[0],'bowler']\n",
    "        set_team=list(np.unique(np.concatenate([batters,bowlers])))\n",
    "\n",
    "        batters=match.loc[match['batting_team']==match['bowling_team'].iloc[0],'striker']\n",
    "        bowlers=match.loc[match['bowlingteam']==match['bowling_team'].iloc[0],'bowler']\n",
    "        chase_team=list(np.unique(np.concatenate([batters,bowlers])))\n",
    "        \n",
    "        sub_stack=pd.concat([match_stack[match_stack['striker'].isin(set_team+chase_team)],\n",
    "                    match_stack[match_stack['bowler'].isin(set_team+chase_team)]]).drop_duplicates()  \n",
    "#-------filter for games before current match-------\n",
    "        hist_start_date=row_dict['date']-dt.timedelta(days=365*hist_data_length)\n",
    "    \n",
    "        sub_stack=sub_stack[sub_stack['start_date'].between(hist_start_date,row_dict['date'],inclusive='left')] \n",
    "#---------------------get metrics-------------------\n",
    "        row_metrics=get_metrics(sub_stack,set_team,form=form,aggregate=True)-get_metrics(\n",
    "            sub_stack,chase_team,form=form,aggregate=True)\n",
    "        \n",
    "        for metric in row_metrics.columns:\n",
    "            row_dict[metric]=row_metrics[metric][0]\n",
    "        \n",
    "        return row_dict\n",
    "#-------------------produce dataset-----------------   \n",
    "    match_list=match_stack['match_id'].unique()\n",
    "    \n",
    "    data=pd.DataFrame.from_dict([match_row(match_id) for match_id in tqdm(match_list)])\n",
    "    \n",
    "    hist_threshold=data['date'].min()+dt.timedelta(days=366*hist_data_length)\n",
    "    data=data[data['date']>hist_threshold]\n",
    "    data=data[~data.isin([np.nan, -np.inf,np.inf]).any(1)]\n",
    "    \n",
    "    data.to_csv('../data/'+filename+'.csv')\n",
    "    return data\n",
    "#--------------------pepare data for wrangle------------------\n",
    "[match_stack,results]=cric_read(leagues=['psl'])\n",
    "\n",
    "data=cric_wrangle(match_stack,results,hist_data_length=2)"
   ]
  },
  {
   "cell_type": "code",
   "execution_count": null,
   "id": "47ede067",
   "metadata": {
    "scrolled": true
   },
   "outputs": [],
   "source": [
    "#----------------------------get metrics----------------------------\n",
    "def get_metrics(match_stack,player_list,form=30,aggregate=False):\n",
    "    \n",
    "    form_stack=match_stack[match_stack['start_date']>match_stack['start_date'].max()-dt.timedelta(days=form)]\n",
    "    \n",
    "    def player_row(player):\n",
    "        row_dict={}\n",
    "        \n",
    "        if player=='all':\n",
    "            row_dict['player']='all'\n",
    "            for metric in metrics:\n",
    "                row_dict[metric.__name__]=metric(match_stack,player_list)\n",
    "                row_dict[metric.__name__+'_form']=metric(form_stack,player_list)\n",
    "        else:\n",
    "            row_dict['player']=player\n",
    "            for metric in metrics:\n",
    "                row_dict[metric.__name__]=metric(match_stack,[player])\n",
    "                row_dict[metric.__name__+'_form']=metric(form_stack,[player])\n",
    "                \n",
    "        return row_dict\n",
    "    if aggregate==True:\n",
    "        return pd.DataFrame.from_dict([player_row('all')]).drop('player',axis=1)\n",
    "    else:\n",
    "        return pd.DataFrame.from_dict([player_row(player) for player in tqdm(player_list+['all'])])\n",
    "\n",
    "#-------------------------------test--------------------------------\n",
    "[match_stack,results]=cric_read()\n",
    "get_metrics(match_stack,['JM Anderson', 'AD Russell','AB de Villiers'])"
   ]
  }
 ],
 "metadata": {
  "kernelspec": {
   "display_name": "Python 3 (ipykernel)",
   "language": "python",
   "name": "python3"
  },
  "language_info": {
   "codemirror_mode": {
    "name": "ipython",
    "version": 3
   },
   "file_extension": ".py",
   "mimetype": "text/x-python",
   "name": "python",
   "nbconvert_exporter": "python",
   "pygments_lexer": "ipython3",
   "version": "3.9.5"
  }
 },
 "nbformat": 4,
 "nbformat_minor": 5
}
