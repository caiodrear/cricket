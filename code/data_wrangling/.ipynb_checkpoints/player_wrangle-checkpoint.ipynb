{
 "cells": [
  {
   "cell_type": "code",
   "execution_count": 1,
   "id": "54a3b100",
   "metadata": {},
   "outputs": [],
   "source": [
    "#------------------standard packages-----------------\n",
    "import numpy as np\n",
    "import pandas as pd\n",
    "import datetime as dt\n",
    "import matplotlib.pyplot as plt\n",
    "from tqdm.notebook import tqdm\n",
    "import pickle\n",
    "import json\n",
    "from thefuzz import fuzz, process\n",
    "\n",
    "#-----------------caio's modules---------------------\n",
    "import sys, os #add code folder to sys.path\n",
    "sys.path.append(os.path.abspath('../../data_processing'))\n",
    "\n",
    "from cricsheet_read import cricsheet_read #data processing"
   ]
  },
  {
   "cell_type": "code",
   "execution_count": 8,
   "id": "ba45630d",
   "metadata": {},
   "outputs": [],
   "source": [
    "def player_wrangle(match_stack, results, min_player_matches = 14):\n",
    "    \n",
    "    results['set_team_win'] = results['set_team'] == results['result']\n",
    "    results['set_team_toss'] = results['set_team'] == results['toss_winner']\n",
    "    results['days_since_match'] = (dt.date.today()- results['start_date']).dt.days\n",
    "\n",
    "    results = results[['set_team_win', 'days_since_match', 'set_team_toss', 'league', 'venue']]\n",
    "\n",
    "    bat_stack = match_stack[['match_id','innings', 'striker']].rename(columns = {'striker':'player'})\n",
    "    bowl_stack = match_stack[['match_id', 'innings', 'bowler']].rename(columns = {'bowler':'player'})\n",
    "\n",
    "    player_stack = pd.concat([bat_stack,bowl_stack]).drop_duplicates(['match_id', 'player'])\n",
    "    \n",
    "    n_matches = player_stack[['match_id', 'player']].groupby('player').count().rename(columns = {'match_id':'no'})\n",
    "    player_stack = player_stack.merge(n_matches, left_on = 'player', right_on = n_matches.index)\n",
    "    player_stack = player_stack[player_stack['no'] > min_player_matches].drop('no', axis = 1)\n",
    "    \n",
    "    player_stack = player_stack.pivot(index = 'match_id', columns = 'player', values = 'innings').fillna(0)\n",
    "    player_stack = results.join(player_stack)\n",
    "    \n",
    "    player_stack = player_stack.sort_values('days_since_match', ascending = False)\n",
    "\n",
    "    player_stack.to_csv('../../../data/player_data.csv')\n",
    "    \n",
    "    return player_stack\n",
    "\n",
    "player_stack = player_wrangle(match_stack, results, min_player_matches = 14)"
   ]
  }
 ],
 "metadata": {
  "kernelspec": {
   "display_name": "Python 3 (ipykernel)",
   "language": "python",
   "name": "python3"
  },
  "language_info": {
   "codemirror_mode": {
    "name": "ipython",
    "version": 3
   },
   "file_extension": ".py",
   "mimetype": "text/x-python",
   "name": "python",
   "nbconvert_exporter": "python",
   "pygments_lexer": "ipython3",
   "version": "3.9.5"
  }
 },
 "nbformat": 4,
 "nbformat_minor": 5
}
