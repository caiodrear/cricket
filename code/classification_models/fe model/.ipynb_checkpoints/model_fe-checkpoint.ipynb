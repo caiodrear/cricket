{
 "cells": [
  {
   "cell_type": "code",
   "execution_count": 2,
   "id": "9a8c1d58",
   "metadata": {},
   "outputs": [],
   "source": [
    "#----------------standard packages------------------\n",
    "import numpy as np\n",
    "import pandas as pd\n",
    "import datetime as dt\n",
    "import matplotlib\n",
    "import matplotlib.pyplot as plt\n",
    "from tqdm.notebook import tqdm\n",
    "\n",
    "#----------------caio's packages--------------------\n",
    "import sys, os #add code folder to sys.path\n",
    "#sys.path.append(os.path.abspath(os.path.join('..', 'code')))\n",
    "\n",
    "#-------------------ML packages---------------------\n",
    "from imblearn.under_sampling import RandomUnderSampler\n",
    "\n",
    "from sklearn.model_selection import train_test_split\n",
    "from sklearn.preprocessing import StandardScaler\n",
    "\n",
    "from sklearn.linear_model import LogisticRegression\n",
    "from sklearn.ensemble import RandomForestClassifier\n",
    "from sklearn.ensemble import GradientBoostingClassifier as xgb\n",
    "import xgboost as xgb\n",
    "\n",
    "from sklearn.metrics import classification_report, accuracy_score, roc_curve, roc_auc_score\n",
    "\n",
    "metrics = ['rel_bat_avg','rel_bat_sr'] + ['bowl_avg','bowl_sr','rel_economy']\n",
    "metrics += [metric+'_form' for metric in metrics]\n",
    "\n",
    "match_data = pd.read_csv('../../../data/fe_data.csv')"
   ]
  },
  {
   "cell_type": "code",
   "execution_count": 3,
   "id": "7c9c379d",
   "metadata": {
    "scrolled": true
   },
   "outputs": [
    {
     "name": "stdout",
     "output_type": "stream",
     "text": [
      "              precision    recall  f1-score   support\n",
      "\n",
      "       False       0.54      0.60      0.57       307\n",
      "        True       0.49      0.43      0.46       273\n",
      "\n",
      "    accuracy                           0.52       580\n",
      "   macro avg       0.52      0.52      0.51       580\n",
      "weighted avg       0.52      0.52      0.52       580\n",
      "\n",
      "Chasing Team Always Wins: ROC AUC = 0.500\n",
      "Model Prediction: ROC AUC = 0.517\n"
     ]
    },
    {
     "data": {
      "image/png": "[encoded data removed]",
      "text/plain": [
       "<Figure size 432x288 with 1 Axes>"
      ]
     },
     "metadata": {
      "needs_background": "light"
     },
     "output_type": "display_data"
    }
   ],
   "source": [
    "def cric_model(match_data, metrics, algorithm = 'forest'):\n",
    "#-----------------preprocessing--------------------- \n",
    "    X, y = match_data[metrics], match_data['set_team_win']\n",
    "    \n",
    "    #sampler = RandomUnderSampler(sampling_strategy = 'majority')\n",
    "    #X, y = sampler.fit_resample(X, y)\n",
    "\n",
    "    X_train, X_test, y_train, y_test = train_test_split(X, y, test_size = 0.2, shuffle = True)\n",
    "    \n",
    "    test_data = X_test.join(y_test).copy()\n",
    "    \n",
    "    scaler = StandardScaler()\n",
    "    X_train = pd.DataFrame(scaler.fit_transform(X_train), columns = X_train.columns)\n",
    "    X_test = pd.DataFrame(scaler.fit_transform(X_test), columns = X_test.columns)\n",
    "\n",
    "#------------------algorithms-----------------------      \n",
    "    if algorithm == 'xgb':\n",
    "        clf = xgb.XGBClassifier(use_label_encoder = False, eval_metric = 'logloss')\n",
    "        clf.fit(X_train,y_train)\n",
    "        xgb.plot_importance(clf,importance_type='weight')\n",
    "        plt.show()\n",
    "    \n",
    "    else:   \n",
    "        clf = RandomForestClassifier()\n",
    "        clf.fit(X_train, y_train)\n",
    "    \n",
    "    test_data['prob_set'] = clf.predict_proba(X_test)[:,1]\n",
    "    test_data['prob_chase'] = clf.predict_proba(X_test)[:,0]\n",
    "    y_pred = clf.predict(X_test)\n",
    "\n",
    "#-------------------metrics-------------------------    \n",
    "    accuracy = accuracy_score(y_test,y_pred)\n",
    "    print(classification_report(y_test,y_pred))\n",
    "\n",
    "    false_auc = roc_auc_score(y_test, y_test.clip(upper = False))\n",
    "    model_auc = roc_auc_score(y_test, test_data['prob_set'])\n",
    "    \n",
    "    print('Chasing Team Always Wins: ROC AUC = %.3f' % (false_auc))\n",
    "    print('Model Prediction: ROC AUC = %.3f' % (model_auc))\n",
    "    \n",
    "    false_fpr, false_tpr, _ = roc_curve(y_test, y_test.clip(upper = False))\n",
    "    model_fpr, model_tpr, _ = roc_curve(y_test, test_data['prob_set'])\n",
    "\n",
    "    plt.plot(false_fpr, false_tpr, linestyle = '--', label = 'Chasing Team Always Wins')\n",
    "    plt.plot(model_fpr, model_tpr, marker = '.', label = 'Model Prediction')\n",
    "\n",
    "    plt.xlabel('False Positive Rate')\n",
    "    plt.ylabel('True Positive Rate')\n",
    "    plt.legend()\n",
    "    plt.show()\n",
    "\n",
    "    return test_data, clf, accuracy\n",
    "\n",
    "#---------------------------------------------------\n",
    "test_data, clf, accuracy = cric_model(match_data, metrics, algorithm = 'forest')"
   ]
  }
 ],
 "metadata": {
  "kernelspec": {
   "display_name": "Python 3 (ipykernel)",
   "language": "python",
   "name": "python3"
  },
  "language_info": {
   "codemirror_mode": {
    "name": "ipython",
    "version": 3
   },
   "file_extension": ".py",
   "mimetype": "text/x-python",
   "name": "python",
   "nbconvert_exporter": "python",
   "pygments_lexer": "ipython3",
   "version": "3.9.5"
  }
 },
 "nbformat": 4,
 "nbformat_minor": 5
}
