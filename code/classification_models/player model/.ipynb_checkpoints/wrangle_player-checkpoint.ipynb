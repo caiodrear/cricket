{
 "cells": [
  {
   "cell_type": "code",
   "execution_count": 310,
   "id": "54a3b100",
   "metadata": {},
   "outputs": [],
   "source": [
    "#------------------standard packages-----------------\n",
    "import numpy as np\n",
    "import pandas as pd\n",
    "import datetime as dt\n",
    "import matplotlib.pyplot as plt\n",
    "from tqdm.notebook import tqdm\n",
    "import pickle\n",
    "import json\n",
    "from thefuzz import fuzz, process\n",
    "\n",
    "#-----------------caio's modules---------------------\n",
    "import sys, os #add code folder to sys.path\n",
    "sys.path.append(os.path.abspath('../../data_processing'))\n",
    "\n",
    "from cricsheet_read import cricsheet_read #data processing\n",
    "\n",
    "#---------------------load data----------------------\n",
    "match_stack, results = cricsheet_read()\n",
    "\n",
    "#match_stack = match_stack[match_stack['league'] == 'Indian Premier League']"
   ]
  },
  {
   "cell_type": "code",
   "execution_count": 313,
   "id": "d6045d90",
   "metadata": {
    "scrolled": true
   },
   "outputs": [],
   "source": [
    "player_stack = match_stack.merge(results, left_on = 'match_id', right_on = results.index)\n",
    "\n",
    "player_stack['set_team_win'] = (player_stack['innings'] == 1)*(player_stack['batting_team'] == player_stack['result']) + (\n",
    "                               (player_stack['innings'] == 2)*(player_stack['bowling_team'] == player_stack['result']))\n",
    "\n",
    "player_stack['set_team_toss'] = (player_stack['innings'] == 1)*(player_stack['batting_team'] == player_stack['toss_winner']) + (\n",
    "                               (player_stack['innings'] == 2)*(player_stack['bowling_team'] == player_stack['toss_winner']))\n",
    "\n",
    "bat_stack = player_stack[['match_id', 'start_date', 'innings', 'striker', 'set_team_win', 'set_team_toss',\n",
    "                           ]].rename(columns = {'batting_team':'team', 'striker':'player'})\n",
    "\n",
    "bowl_stack = player_stack[['match_id', 'start_date', 'innings', 'bowler','set_team_win', 'set_team_toss',\n",
    "                          ]].rename(columns = {'bowling_team':'team', 'bowler':'player'})\n",
    "\n",
    "player_stack = pd.concat([bat_stack,bowl_stack]).drop_duplicates(['match_id', 'player'])\n",
    "player_stack['days_since_match'] = (dt.datetime.today() - player_stack['start_date']).dt.days\n",
    "\n",
    "info_stack =  player_stack[['match_id', 'days_since_match', 'set_team_win', 'set_team_toss']].drop_duplicates()\n",
    "player_stack = player_stack[['match_id', 'innings', 'player']]\n",
    "\n",
    "appearances = player_stack.groupby('player', as_index = False).count()[\n",
    "                                  ['player', 'match_id']].rename(columns = {'match_id':'n_matches'})\n",
    "\n",
    "player_stack = player_stack.merge(appearances, on = 'player')\n",
    "\n",
    "player_stack = player_stack[player_stack['n_matches'] > 7].drop('n_matches', axis = 1)\n",
    "\n",
    "player_stack = player_stack.pivot(index = 'match_id',\n",
    "                                  columns = 'player', values = 'innings').fillna(0)#.rename_axis(columns = None)\n",
    "\n",
    "player_stack = player_stack.merge(info_stack, left_on = player_stack.index, right_on = 'match_id')\n",
    "\n",
    "player_stack = player_stack.sort_values(['days_since_match','match_id']).reset_index(drop = True)\n",
    "\n",
    "player_stack.to_csv('../../../data/player_data.csv', index = False)"
   ]
  }
 ],
 "metadata": {
  "kernelspec": {
   "display_name": "Python 3 (ipykernel)",
   "language": "python",
   "name": "python3"
  },
  "language_info": {
   "codemirror_mode": {
    "name": "ipython",
    "version": 3
   },
   "file_extension": ".py",
   "mimetype": "text/x-python",
   "name": "python",
   "nbconvert_exporter": "python",
   "pygments_lexer": "ipython3",
   "version": "3.9.5"
  }
 },
 "nbformat": 4,
 "nbformat_minor": 5
}
