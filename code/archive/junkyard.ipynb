{
 "cells": [
  {
   "cell_type": "code",
   "execution_count": null,
   "id": "697b8f9a",
   "metadata": {},
   "outputs": [],
   "source": [
    "betfair_wrangle_read='read'\n",
    "\n",
    "if betfair_wrangle_read=='read':\n",
    "    betfair_data=pd.read_csv('./Cricket Data/betfair_data.csv')\n",
    "else:\n",
    "    betfair_data=cric_betfair_wrangle(['data_pre_apr20','data_post_apr20'],'betfair_data')\n",
    "    \n",
    "betfair_data['date']=pd.to_datetime(betfair_data['date'], format='%Y-%m-%d')"
   ]
  },
  {
   "cell_type": "code",
   "execution_count": null,
   "id": "683cf96e",
   "metadata": {},
   "outputs": [],
   "source": [
    "player_list=['AU Rashid']\n",
    "#------------------------------player_form---------------------------------------------------------\n",
    "[match_stack,results]=cric_read(False)\n",
    "\n",
    "player_matches=pd.concat([match_stack[match_stack['striker'].isin(player_list)],\n",
    "                          match_stack[match_stack['bowler'].isin(player_list)]])\n",
    "\n",
    "seasons=player_matches['start_date'].dt.year.unique()\n",
    "\n",
    "season_stats=[]\n",
    "\n",
    "for s in tqdm(seasons):\n",
    "    \n",
    "    player_matches_in_season=player_matches[player_matches['start_date'].dt.year==s]\n",
    "    \n",
    "    temp_stats=cricstats(player_matches_in_season,player_list)\n",
    "    temp_stats.insert(0,'season',s)\n",
    "    \n",
    "    season_stats.append(temp_stats)\n",
    "\n",
    "form=pd.concat(season_stats).sort_values('season',ascending=False)[['season','bat_avg','bat_strike_rate',\n",
    "                                                               'bowl_avg','economy','bowl_strike_rate']]\n",
    "form.plot.line(x='season',y='bowl_avg')"
   ]
  },
  {
   "cell_type": "code",
   "execution_count": null,
   "id": "4a7c7195",
   "metadata": {},
   "outputs": [],
   "source": [
    "import matplotlib\n",
    "import matplotlib.pyplot as plt\n",
    "#import seaborn as sns\n",
    "import time\n",
    "\n",
    "corr=data.corr('kendall')['set_team_win']\n",
    "\n",
    "corr"
   ]
  }
 ],
 "metadata": {
  "kernelspec": {
   "display_name": "Python 3 (ipykernel)",
   "language": "python",
   "name": "python3"
  },
  "language_info": {
   "codemirror_mode": {
    "name": "ipython",
    "version": 3
   },
   "file_extension": ".py",
   "mimetype": "text/x-python",
   "name": "python",
   "nbconvert_exporter": "python",
   "pygments_lexer": "ipython3",
   "version": "3.7.4"
  }
 },
 "nbformat": 4,
 "nbformat_minor": 5
}
