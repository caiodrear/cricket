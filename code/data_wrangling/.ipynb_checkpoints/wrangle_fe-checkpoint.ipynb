{
 "cells": [
  {
   "cell_type": "code",
   "execution_count": null,
   "id": "08f6545c",
   "metadata": {},
   "outputs": [],
   "source": [
    "team_h = ['RG Sharma', 'Babar Azam', 'SPD Smith', 'KS Williamson', 'Q de Kock',\n",
    "          'M Labuschagne', 'JO Holder', 'R Ashwin', 'TA Boult', 'SCJ Broad', 'PJ Cummins']\n",
    "\n",
    "team_c = ['DA Warner', 'V Kohli', 'BA Stokes', 'C de Grandhomme', 'MS Dhoni',\n",
    "          'JE Root', 'JDS Neesham', 'MA Starc', 'Rashid Khan', 'JJ Bumrah', 'SL Malinga']\n",
    "\n",
    "team_harsha = ['JC Buttler', 'Mohammad Rizwan', 'MR Marsh', 'MM Ali', 'GJ Maxwell',\n",
    "               'AD Russell', 'SP Narine', 'Rashid Khan', 'Shaheen Shah Afridi', 'A Nortje', 'JJ Bumrah']"
   ]
  },
  {
   "cell_type": "code",
   "execution_count": 2,
   "id": "54a3b100",
   "metadata": {},
   "outputs": [],
   "source": [
    "#------------------standard packages-----------------\n",
    "import numpy as np\n",
    "import pandas as pd\n",
    "import datetime as dt\n",
    "import matplotlib.pyplot as plt\n",
    "from tqdm.notebook import tqdm\n",
    "import pickle\n",
    "import json\n",
    "from thefuzz import fuzz, process\n",
    "\n",
    "#-----------------caio's modules---------------------\n",
    "import sys, os #add code folder to sys.path\n",
    "sys.path.append(os.path.abspath('../data_processing'))\n",
    "\n",
    "from cricsheet_read import cricsheet_read #data processing\n",
    "\n",
    "#--------------cricket metric functions--------------\n",
    "import cricket_metrics\n",
    "from cricket_metrics import *\n",
    "\n",
    "metrics=[getattr(cricket_metrics,m) for m in dir(cricket_metrics)\n",
    "         if m not in ['__builtins__','__cached__','__doc__','__file__',\n",
    "                      '__loader__','__name__','__package__','__spec__',\n",
    "                      'dt','np','pd','wicket_types']]\n",
    "\n",
    "#---------------------load data----------------------\n",
    "match_stack, results = cricsheet_read()"
   ]
  },
  {
   "cell_type": "code",
   "execution_count": 3,
   "id": "da93704d",
   "metadata": {},
   "outputs": [],
   "source": [
    "def get_metrics(match_stack, player_list,form=365, aggregate=False):\n",
    "    \n",
    "    form_stack = match_stack[match_stack['start_date']\n",
    "                             > match_stack['start_date'].max() - dt.timedelta(days = form)]\n",
    "    \n",
    "    def player_row(player):\n",
    "        row_dict = {}\n",
    "        \n",
    "        if player == 'all':\n",
    "            row_dict['player'] = 'all'\n",
    "            for metric in metrics:\n",
    "                row_dict[metric.__name__] = metric(match_stack,player_list)\n",
    "                row_dict[metric.__name__ + '_form'] = metric(form_stack,player_list)\n",
    "        else:\n",
    "            row_dict['player'] = player\n",
    "            for metric in metrics:\n",
    "                row_dict[metric.__name__] = metric(match_stack,[player])\n",
    "                row_dict[metric.__name__ + '_form'] = metric(form_stack,[player])\n",
    "                \n",
    "        return row_dict\n",
    "    if aggregate == True:\n",
    "        return pd.DataFrame.from_dict([player_row('all')]).drop('player',axis=1)\n",
    "    \n",
    "    return pd.DataFrame.from_dict([player_row(player) for player in tqdm(player_list+['all'])])"
   ]
  },
  {
   "cell_type": "code",
   "execution_count": 4,
   "id": "8365bfc8",
   "metadata": {
    "scrolled": false
   },
   "outputs": [
    {
     "data": {
      "application/vnd.jupyter.widget-view+json": {
       "model_id": "fc2d85cb8c0e49288763a7c328c34201",
       "version_major": 2,
       "version_minor": 0
      },
      "text/plain": [
       "  0%|          | 0/3266 [00:00<?, ?it/s]"
      ]
     },
     "metadata": {},
     "output_type": "display_data"
    },
    {
     "ename": "TypeError",
     "evalue": "unsupported operand type(s) for -: 'float' and 'datetime.timedelta'",
     "output_type": "error",
     "traceback": [
      "\u001b[1;31m---------------------------------------------------------------------------\u001b[0m",
      "\u001b[1;31mTypeError\u001b[0m                                 Traceback (most recent call last)",
      "\u001b[1;32m~\\AppData\\Local\\Temp/ipykernel_14832/23305465.py\u001b[0m in \u001b[0;36m<module>\u001b[1;34m\u001b[0m\n\u001b[0;32m     49\u001b[0m \u001b[1;31m#--------------------pepare data for wrangle------------------\u001b[0m\u001b[1;33m\u001b[0m\u001b[1;33m\u001b[0m\u001b[1;33m\u001b[0m\u001b[0m\n\u001b[0;32m     50\u001b[0m \u001b[1;33m\u001b[0m\u001b[0m\n\u001b[1;32m---> 51\u001b[1;33m \u001b[0mdata\u001b[0m\u001b[1;33m=\u001b[0m\u001b[0mcric_wrangle\u001b[0m\u001b[1;33m(\u001b[0m\u001b[0mmatch_stack\u001b[0m\u001b[1;33m,\u001b[0m\u001b[0mresults\u001b[0m\u001b[1;33m,\u001b[0m\u001b[0mhist_data_length\u001b[0m\u001b[1;33m=\u001b[0m\u001b[1;36m2\u001b[0m\u001b[1;33m)\u001b[0m\u001b[1;33m\u001b[0m\u001b[1;33m\u001b[0m\u001b[0m\n\u001b[0m",
      "\u001b[1;32m~\\AppData\\Local\\Temp/ipykernel_14832/23305465.py\u001b[0m in \u001b[0;36mcric_wrangle\u001b[1;34m(match_stack, results, hist_data_length, form, filename)\u001b[0m\n\u001b[0;32m     39\u001b[0m     \u001b[0mmatch_list\u001b[0m\u001b[1;33m=\u001b[0m\u001b[0mmatch_stack\u001b[0m\u001b[1;33m[\u001b[0m\u001b[1;34m'match_id'\u001b[0m\u001b[1;33m]\u001b[0m\u001b[1;33m.\u001b[0m\u001b[0munique\u001b[0m\u001b[1;33m(\u001b[0m\u001b[1;33m)\u001b[0m\u001b[1;33m\u001b[0m\u001b[1;33m\u001b[0m\u001b[0m\n\u001b[0;32m     40\u001b[0m \u001b[1;33m\u001b[0m\u001b[0m\n\u001b[1;32m---> 41\u001b[1;33m     \u001b[0mdata\u001b[0m\u001b[1;33m=\u001b[0m\u001b[0mpd\u001b[0m\u001b[1;33m.\u001b[0m\u001b[0mDataFrame\u001b[0m\u001b[1;33m.\u001b[0m\u001b[0mfrom_dict\u001b[0m\u001b[1;33m(\u001b[0m\u001b[1;33m[\u001b[0m\u001b[0mmatch_row\u001b[0m\u001b[1;33m(\u001b[0m\u001b[0mmatch_id\u001b[0m\u001b[1;33m)\u001b[0m \u001b[1;32mfor\u001b[0m \u001b[0mmatch_id\u001b[0m \u001b[1;32min\u001b[0m \u001b[0mtqdm\u001b[0m\u001b[1;33m(\u001b[0m\u001b[0mmatch_list\u001b[0m\u001b[1;33m)\u001b[0m\u001b[1;33m]\u001b[0m\u001b[1;33m)\u001b[0m\u001b[1;33m\u001b[0m\u001b[1;33m\u001b[0m\u001b[0m\n\u001b[0m\u001b[0;32m     42\u001b[0m \u001b[1;33m\u001b[0m\u001b[0m\n\u001b[0;32m     43\u001b[0m     \u001b[0mhist_threshold\u001b[0m\u001b[1;33m=\u001b[0m\u001b[0mdata\u001b[0m\u001b[1;33m[\u001b[0m\u001b[1;34m'date'\u001b[0m\u001b[1;33m]\u001b[0m\u001b[1;33m.\u001b[0m\u001b[0mmin\u001b[0m\u001b[1;33m(\u001b[0m\u001b[1;33m)\u001b[0m\u001b[1;33m+\u001b[0m\u001b[0mdt\u001b[0m\u001b[1;33m.\u001b[0m\u001b[0mtimedelta\u001b[0m\u001b[1;33m(\u001b[0m\u001b[0mdays\u001b[0m\u001b[1;33m=\u001b[0m\u001b[1;36m366\u001b[0m\u001b[1;33m*\u001b[0m\u001b[0mhist_data_length\u001b[0m\u001b[1;33m)\u001b[0m\u001b[1;33m\u001b[0m\u001b[1;33m\u001b[0m\u001b[0m\n",
      "\u001b[1;32m~\\AppData\\Local\\Temp/ipykernel_14832/23305465.py\u001b[0m in \u001b[0;36m<listcomp>\u001b[1;34m(.0)\u001b[0m\n\u001b[0;32m     39\u001b[0m     \u001b[0mmatch_list\u001b[0m\u001b[1;33m=\u001b[0m\u001b[0mmatch_stack\u001b[0m\u001b[1;33m[\u001b[0m\u001b[1;34m'match_id'\u001b[0m\u001b[1;33m]\u001b[0m\u001b[1;33m.\u001b[0m\u001b[0munique\u001b[0m\u001b[1;33m(\u001b[0m\u001b[1;33m)\u001b[0m\u001b[1;33m\u001b[0m\u001b[1;33m\u001b[0m\u001b[0m\n\u001b[0;32m     40\u001b[0m \u001b[1;33m\u001b[0m\u001b[0m\n\u001b[1;32m---> 41\u001b[1;33m     \u001b[0mdata\u001b[0m\u001b[1;33m=\u001b[0m\u001b[0mpd\u001b[0m\u001b[1;33m.\u001b[0m\u001b[0mDataFrame\u001b[0m\u001b[1;33m.\u001b[0m\u001b[0mfrom_dict\u001b[0m\u001b[1;33m(\u001b[0m\u001b[1;33m[\u001b[0m\u001b[0mmatch_row\u001b[0m\u001b[1;33m(\u001b[0m\u001b[0mmatch_id\u001b[0m\u001b[1;33m)\u001b[0m \u001b[1;32mfor\u001b[0m \u001b[0mmatch_id\u001b[0m \u001b[1;32min\u001b[0m \u001b[0mtqdm\u001b[0m\u001b[1;33m(\u001b[0m\u001b[0mmatch_list\u001b[0m\u001b[1;33m)\u001b[0m\u001b[1;33m]\u001b[0m\u001b[1;33m)\u001b[0m\u001b[1;33m\u001b[0m\u001b[1;33m\u001b[0m\u001b[0m\n\u001b[0m\u001b[0;32m     42\u001b[0m \u001b[1;33m\u001b[0m\u001b[0m\n\u001b[0;32m     43\u001b[0m     \u001b[0mhist_threshold\u001b[0m\u001b[1;33m=\u001b[0m\u001b[0mdata\u001b[0m\u001b[1;33m[\u001b[0m\u001b[1;34m'date'\u001b[0m\u001b[1;33m]\u001b[0m\u001b[1;33m.\u001b[0m\u001b[0mmin\u001b[0m\u001b[1;33m(\u001b[0m\u001b[1;33m)\u001b[0m\u001b[1;33m+\u001b[0m\u001b[0mdt\u001b[0m\u001b[1;33m.\u001b[0m\u001b[0mtimedelta\u001b[0m\u001b[1;33m(\u001b[0m\u001b[0mdays\u001b[0m\u001b[1;33m=\u001b[0m\u001b[1;36m366\u001b[0m\u001b[1;33m*\u001b[0m\u001b[0mhist_data_length\u001b[0m\u001b[1;33m)\u001b[0m\u001b[1;33m\u001b[0m\u001b[1;33m\u001b[0m\u001b[0m\n",
      "\u001b[1;32m~\\AppData\\Local\\Temp/ipykernel_14832/23305465.py\u001b[0m in \u001b[0;36mmatch_row\u001b[1;34m(match_id)\u001b[0m\n\u001b[0;32m     29\u001b[0m         \u001b[0msub_stack\u001b[0m\u001b[1;33m=\u001b[0m\u001b[0msub_stack\u001b[0m\u001b[1;33m[\u001b[0m\u001b[0msub_stack\u001b[0m\u001b[1;33m[\u001b[0m\u001b[1;34m'start_date'\u001b[0m\u001b[1;33m]\u001b[0m\u001b[1;33m.\u001b[0m\u001b[0mbetween\u001b[0m\u001b[1;33m(\u001b[0m\u001b[0mhist_start_date\u001b[0m\u001b[1;33m,\u001b[0m\u001b[0mrow_dict\u001b[0m\u001b[1;33m[\u001b[0m\u001b[1;34m'date'\u001b[0m\u001b[1;33m]\u001b[0m\u001b[1;33m,\u001b[0m\u001b[0minclusive\u001b[0m\u001b[1;33m=\u001b[0m\u001b[1;34m'left'\u001b[0m\u001b[1;33m)\u001b[0m\u001b[1;33m]\u001b[0m\u001b[1;33m\u001b[0m\u001b[1;33m\u001b[0m\u001b[0m\n\u001b[0;32m     30\u001b[0m \u001b[1;31m#---------------------get metrics-------------------\u001b[0m\u001b[1;33m\u001b[0m\u001b[1;33m\u001b[0m\u001b[1;33m\u001b[0m\u001b[0m\n\u001b[1;32m---> 31\u001b[1;33m         row_metrics=get_metrics(sub_stack,set_team,form=form,aggregate=True)-get_metrics(\n\u001b[0m\u001b[0;32m     32\u001b[0m             sub_stack,chase_team,form=form,aggregate=True)\n\u001b[0;32m     33\u001b[0m \u001b[1;33m\u001b[0m\u001b[0m\n",
      "\u001b[1;32m~\\AppData\\Local\\Temp/ipykernel_14832/1528460236.py\u001b[0m in \u001b[0;36mget_metrics\u001b[1;34m(match_stack, player_list, form, aggregate)\u001b[0m\n\u001b[0;32m      2\u001b[0m \u001b[1;33m\u001b[0m\u001b[0m\n\u001b[0;32m      3\u001b[0m     form_stack = match_stack[match_stack['start_date']\n\u001b[1;32m----> 4\u001b[1;33m                              > match_stack['start_date'].max() - dt.timedelta(days = form)]\n\u001b[0m\u001b[0;32m      5\u001b[0m \u001b[1;33m\u001b[0m\u001b[0m\n\u001b[0;32m      6\u001b[0m     \u001b[1;32mdef\u001b[0m \u001b[0mplayer_row\u001b[0m\u001b[1;33m(\u001b[0m\u001b[0mplayer\u001b[0m\u001b[1;33m)\u001b[0m\u001b[1;33m:\u001b[0m\u001b[1;33m\u001b[0m\u001b[1;33m\u001b[0m\u001b[0m\n",
      "\u001b[1;31mTypeError\u001b[0m: unsupported operand type(s) for -: 'float' and 'datetime.timedelta'"
     ]
    }
   ],
   "source": [
    "def cric_wrangle(match_stack,results,hist_data_length,form=30,filename='cricket_data'):\n",
    "    \n",
    "    results = pd.DataFrame.to_dict(results, orient = 'index')\n",
    "    def match_row(match_id):\n",
    "        row_dict={}\n",
    "        \n",
    "        match=match_stack[match_stack['match_id']==match_id]\n",
    "#---------------------match_info--------------------   \n",
    "        row_dict['match_id']=match_id\n",
    "        row_dict['date']=match['start_date'].iloc[0]\n",
    "        row_dict['set_team']=match['batting_team'].iloc[0]\n",
    "        row_dict['chase_team']=match['bowling_team'].iloc[0]\n",
    "        row_dict['set_team_win']=results[match_id]['result'] == row_dict['set_team']\n",
    "        row_dict['set_team_toss'] = results[match_id]['toss_winner'] == row_dict['set_team']\n",
    "#------------filter for players in teams------------ \n",
    "        batters=match.loc[match['batting_team']==match['batting_team'].iloc[0],'striker']\n",
    "        bowlers=match.loc[match['bowling_team']==match['batting_team'].iloc[0],'bowler']\n",
    "        set_team=list(np.unique(np.concatenate([batters,bowlers])))\n",
    "\n",
    "        batters=match.loc[match['batting_team']==match['bowling_team'].iloc[0],'striker']\n",
    "        bowlers=match.loc[match['bowling_team']==match['bowling_team'].iloc[0],'bowler']\n",
    "        chase_team=list(np.unique(np.concatenate([batters,bowlers])))\n",
    "        \n",
    "        sub_stack=pd.concat([match_stack[match_stack['striker'].isin(set_team+chase_team)],\n",
    "                    match_stack[match_stack['bowler'].isin(set_team+chase_team)]]).drop_duplicates()  \n",
    "#-------filter for games before current match-------\n",
    "        hist_start_date=row_dict['date']-dt.timedelta(days=365*hist_data_length)\n",
    "    \n",
    "        sub_stack=sub_stack[sub_stack['start_date'].between(hist_start_date,row_dict['date'],inclusive='left')] \n",
    "#---------------------get metrics-------------------\n",
    "        row_metrics=get_metrics(sub_stack,set_team,form=form,aggregate=True)-get_metrics(\n",
    "            sub_stack,chase_team,form=form,aggregate=True)\n",
    "        \n",
    "        for metric in row_metrics.columns:\n",
    "            row_dict[metric]=row_metrics[metric][0]\n",
    "        \n",
    "        return row_dict\n",
    "#-------------------produce dataset-----------------   \n",
    "    match_list=match_stack['match_id'].unique()\n",
    "    \n",
    "    data=pd.DataFrame.from_dict([match_row(match_id) for match_id in tqdm(match_list)])\n",
    "    \n",
    "    hist_threshold=data['date'].min()+dt.timedelta(days=366*hist_data_length)\n",
    "    data=data[data['date']>hist_threshold]\n",
    "    data=data[~data.isin([np.nan, -np.inf,np.inf]).any(1)].reset_index(drop = True)\n",
    "    \n",
    "    data.to_csv('../../data/'+filename+'.csv', index = False)\n",
    "    return data\n",
    "#--------------------pepare data for wrangle------------------\n",
    "\n",
    "data=cric_wrangle(match_stack,results,hist_data_length=2)"
   ]
  }
 ],
 "metadata": {
  "kernelspec": {
   "display_name": "Python 3 (ipykernel)",
   "language": "python",
   "name": "python3"
  },
  "language_info": {
   "codemirror_mode": {
    "name": "ipython",
    "version": 3
   },
   "file_extension": ".py",
   "mimetype": "text/x-python",
   "name": "python",
   "nbconvert_exporter": "python",
   "pygments_lexer": "ipython3",
   "version": "3.9.5"
  }
 },
 "nbformat": 4,
 "nbformat_minor": 5
}
