{
 "cells": [
  {
   "cell_type": "code",
   "execution_count": 2,
   "id": "3bfa9a99",
   "metadata": {},
   "outputs": [],
   "source": [
    "#----------------standard packages------------------\n",
    "import pandas as pd\n",
    "from thefuzz import fuzz\n",
    "from thefuzz import process\n",
    "import numpy as np\n",
    "import datetime as dt\n",
    "#----------------streaming packages------------------\n",
    "import logging\n",
    "import betfairlightweight\n",
    "\n",
    "#-----------------caio's modules---------------------\n",
    "import sys, os #add code folder to sys.path\n",
    "sys.path.append(os.path.abspath('../../config'))\n",
    "\n",
    "from bf_stream import betfair_login, get_stream\n",
    "\n",
    "from cric_odds import get_event, get_markets, get_score\n",
    "from cric_value import get_odds, get_lines, process_markets, print_markets"
   ]
  },
  {
   "cell_type": "code",
   "execution_count": 3,
   "id": "7ae5b49d",
   "metadata": {
    "scrolled": true
   },
   "outputs": [],
   "source": [
    "def odds_stream(match_name, stream_mode = False):\n",
    "    \n",
    "#---------------------login-----------------------   \n",
    "    trading = betfair_login()\n",
    "    \n",
    "#-----------------get market id-------------------\n",
    "\n",
    "    event_name, event_dict, market_dict = get_event(match_name, trading)\n",
    "    \n",
    "    if market_dict is None:\n",
    "        return None\n",
    "    print(event_name)\n",
    "    print('='*65)\n",
    "\n",
    "#---------------------stream----------------------\n",
    "    stream = get_stream(list(market_dict.keys()), trading, log_level=logging.WARNING)\n",
    "    \n",
    "#--------------create odds dataframe--------------\n",
    "    market_books = {}\n",
    "    while True:\n",
    "        for market_book in stream.output_queue.get():\n",
    "            market_books[market_book.market_id] = market_book\n",
    "            \n",
    "        odds_score = get_score(event_dict['event_id'], trading)\n",
    "\n",
    "        prob_dict, proj_runs = None, np.NaN #add a dictionary of teams and probabilities, and a projected innings total\n",
    "\n",
    "        updates_dict, odds_dict, lines_dict = process_markets(market_books.values(), market_dict, odds_score,\n",
    "                                                              prob_dict, proj_runs)\n",
    "        print_markets(updates_dict, odds_dict, lines_dict)\n",
    "\n",
    "        if updates_dict['market_status'] != 'OPEN' or stream_mode == False: #TODO: error handling for updates_dict = None\n",
    "            stream.stop()\n",
    "            trading.logout()\n",
    "            return updates_dict, odds_dict, lines_dict"
   ]
  },
  {
   "cell_type": "code",
   "execution_count": 4,
   "id": "d0894d5f",
   "metadata": {
    "scrolled": true
   },
   "outputs": [
    {
     "name": "stdout",
     "output_type": "stream",
     "text": [
      "Australia v England\n",
      "=================================================================\n",
      "2022-01-14 15:20:09.069000\n",
      "market status: OPEN | inplay status: False\n",
      "-----------------------------------------------------------------\n",
      "           inning  score  projected_runs  under_line  over_line\n",
      "Australia       1  241/6             NaN       317.5      318.5\n",
      "-----------------------------------------------------------------\n",
      "           back_odds  lay_odds  probability  value side\n",
      "Australia       1.46      1.47          NaN    NaN  lay\n",
      "England         7.60      8.00          NaN    NaN  lay\n",
      "The Draw        5.20      5.40          NaN    NaN  lay\n",
      "-----------------------------------------------------------------\n"
     ]
    }
   ],
   "source": [
    "updates_dict, odds_dict, lines_dict = odds_stream('Australia vs England', stream_mode = False)"
   ]
  }
 ],
 "metadata": {
  "kernelspec": {
   "display_name": "Python 3 (ipykernel)",
   "language": "python",
   "name": "python3"
  },
  "language_info": {
   "codemirror_mode": {
    "name": "ipython",
    "version": 3
   },
   "file_extension": ".py",
   "mimetype": "text/x-python",
   "name": "python",
   "nbconvert_exporter": "python",
   "pygments_lexer": "ipython3",
   "version": "3.9.7"
  }
 },
 "nbformat": 4,
 "nbformat_minor": 5
}
