{
 "cells": [
  {
   "cell_type": "code",
   "execution_count": null,
   "id": "d5c9fd0a",
   "metadata": {},
   "outputs": [],
   "source": [
    "team_h = get_player_names(match_stack, ['RG Sharma', 'Babar Azam', 'SPD Smith', 'KS Williamson', 'Q de Kock',\n",
    "                           'M Labuschagne', 'JO Holder', 'R Ashwin', 'TA Boult', 'SCJ Broad', 'PJ Cummins'])\n",
    "\n",
    "team_c = get_player_names(match_stack, ['DA Warner', 'V Kohli', 'BA Stokes', 'C de Grandhomme', 'MS Dhoni',\n",
    "                           'JE Root', 'JDS Neesham', 'MA Starc', 'Rashid Khan', 'JJ Bumrah', 'SL Malinga'])\n",
    "\n",
    "team_harsha = get_player_names(match_stack, \n",
    "                ['JC Buttler', 'Mohammad Rizwan', 'MR Marsh', 'MM Ali', 'G Maxwell',\n",
    "                 'AD Russell', 'SP Narine', 'Rashid Khan', 'Shaheen Shah Afridi', 'A Nortje', 'JJ Bumrah'])"
   ]
  }
 ],
 "metadata": {
  "kernelspec": {
   "display_name": "Python 3 (ipykernel)",
   "language": "python",
   "name": "python3"
  },
  "language_info": {
   "codemirror_mode": {
    "name": "ipython",
    "version": 3
   },
   "file_extension": ".py",
   "mimetype": "text/x-python",
   "name": "python",
   "nbconvert_exporter": "python",
   "pygments_lexer": "ipython3",
   "version": "3.9.7"
  }
 },
 "nbformat": 4,
 "nbformat_minor": 5
}
